{
  "nbformat": 4,
  "nbformat_minor": 0,
  "metadata": {
    "colab": {
      "name": "PDF password Protection using Python.ipynb",
      "provenance": [],
      "authorship_tag": "ABX9TyNbudrCfd/Syhusft0WWxxo",
      "include_colab_link": true
    },
    "kernelspec": {
      "name": "python3",
      "display_name": "Python 3"
    }
  },
  "cells": [
    {
      "cell_type": "markdown",
      "metadata": {
        "id": "view-in-github",
        "colab_type": "text"
      },
      "source": [
        "<a href=\"https://colab.research.google.com/github/siva0019/K-R-SIVA-RAMA-PANDIAN/blob/main/PDF_password_Protection_using_Python.ipynb\" target=\"_parent\"><img src=\"https://colab.research.google.com/assets/colab-badge.svg\" alt=\"Open In Colab\"/></a>"
      ]
    },
    {
      "cell_type": "code",
      "metadata": {
        "colab": {
          "base_uri": "https://localhost:8080/"
        },
        "id": "29t9VJ2Sd3h8",
        "outputId": "24cf9d18-8f9c-4c26-b1ef-651ce3d49587"
      },
      "source": [
        "!pip install PyPDF2"
      ],
      "execution_count": null,
      "outputs": [
        {
          "output_type": "stream",
          "text": [
            "Collecting PyPDF2\n",
            "\u001b[?25l  Downloading https://files.pythonhosted.org/packages/b4/01/68fcc0d43daf4c6bdbc6b33cc3f77bda531c86b174cac56ef0ffdb96faab/PyPDF2-1.26.0.tar.gz (77kB)\n",
            "\r\u001b[K     |████▎                           | 10kB 14.3MB/s eta 0:00:01\r\u001b[K     |████████▌                       | 20kB 10.2MB/s eta 0:00:01\r\u001b[K     |████████████▊                   | 30kB 9.2MB/s eta 0:00:01\r\u001b[K     |█████████████████               | 40kB 7.2MB/s eta 0:00:01\r\u001b[K     |█████████████████████▏          | 51kB 4.5MB/s eta 0:00:01\r\u001b[K     |█████████████████████████▍      | 61kB 4.7MB/s eta 0:00:01\r\u001b[K     |█████████████████████████████▋  | 71kB 5.2MB/s eta 0:00:01\r\u001b[K     |████████████████████████████████| 81kB 3.4MB/s \n",
            "\u001b[?25hBuilding wheels for collected packages: PyPDF2\n",
            "  Building wheel for PyPDF2 (setup.py) ... \u001b[?25l\u001b[?25hdone\n",
            "  Created wheel for PyPDF2: filename=PyPDF2-1.26.0-cp36-none-any.whl size=61087 sha256=2cb3b02a3a5f7f7057f63a7339579d98a43384e3f07a72a1be1f47ec80f8639b\n",
            "  Stored in directory: /root/.cache/pip/wheels/53/84/19/35bc977c8bf5f0c23a8a011aa958acd4da4bbd7a229315c1b7\n",
            "Successfully built PyPDF2\n",
            "Installing collected packages: PyPDF2\n",
            "Successfully installed PyPDF2-1.26.0\n"
          ],
          "name": "stdout"
        }
      ]
    },
    {
      "cell_type": "code",
      "metadata": {
        "id": "6c5GSiRPeHU4"
      },
      "source": [
        "from PyPDF2 import PdfFileReader, PdfFileWriter"
      ],
      "execution_count": null,
      "outputs": []
    },
    {
      "cell_type": "code",
      "metadata": {
        "id": "ZSEf0lTCeUMo"
      },
      "source": [
        "### Open the current pdf\n",
        "file_pdf = PdfFileReader ('STARDUST.pdf')\n",
        "### Object for pdf writer\n",
        "out_pdf = PdfFileWriter ()"
      ],
      "execution_count": null,
      "outputs": []
    },
    {
      "cell_type": "code",
      "metadata": {
        "colab": {
          "base_uri": "https://localhost:8080/"
        },
        "id": "we7t1kq5freI",
        "outputId": "7ae57e06-a5aa-4e9e-e700-e55279540cf4"
      },
      "source": [
        "file_pdf"
      ],
      "execution_count": null,
      "outputs": [
        {
          "output_type": "execute_result",
          "data": {
            "text/plain": [
              "<PyPDF2.pdf.PdfFileReader at 0x7feb26f88518>"
            ]
          },
          "metadata": {
            "tags": []
          },
          "execution_count": 4
        }
      ]
    },
    {
      "cell_type": "code",
      "metadata": {
        "colab": {
          "base_uri": "https://localhost:8080/"
        },
        "id": "g_RjaOGTfyUJ",
        "outputId": "c3b1fc3c-2e44-4fea-8f39-51cb2e8b03b2"
      },
      "source": [
        "file_pdf.numPages"
      ],
      "execution_count": null,
      "outputs": [
        {
          "output_type": "execute_result",
          "data": {
            "text/plain": [
              "1"
            ]
          },
          "metadata": {
            "tags": []
          },
          "execution_count": 5
        }
      ]
    },
    {
      "cell_type": "code",
      "metadata": {
        "id": "PbI1jgw9f9wN"
      },
      "source": [
        "for i in  range (file_pdf.numPages):\n",
        "    page_details = file_pdf.getPage(i)\n",
        "  \n",
        "    ### Add to the output page\n",
        "    out_pdf.addPage(page_details)"
      ],
      "execution_count": null,
      "outputs": []
    },
    {
      "cell_type": "code",
      "metadata": {
        "id": "ZNjkcwDAg4C_"
      },
      "source": [
        "password = \"Sivaraman@123\"\n",
        "###Encrypt the pdf\n",
        " \n",
        "out_pdf.encrypt(password)"
      ],
      "execution_count": null,
      "outputs": []
    },
    {
      "cell_type": "code",
      "metadata": {
        "id": "eQWP9jUkhLu-"
      },
      "source": [
        "with open(\"encrypted Stardust.pdf\", \"wb\") as filename:\n",
        "     out_pdf.write(filename)"
      ],
      "execution_count": null,
      "outputs": []
    }
  ]
}